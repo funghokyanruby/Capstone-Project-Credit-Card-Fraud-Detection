{
 "cells": [
  {
   "cell_type": "markdown",
   "metadata": {},
   "source": [
    "# Capstone Project - Credit Card Fraud Detection"
   ]
  },
  {
   "cell_type": "markdown",
   "metadata": {},
   "source": [
    "## 5. DBSCAN\n",
    "\n",
    "This technique is based on the DBSCAN clustering method. DBSCAN is a non-parametric, density based outlier detection method in a one or multi dimensional feature space.\n",
    "\n",
    "In the DBSCAN clustering technique, all data points are defined either as Core Points, Border Points or Noise Points.\n",
    "- Core Points are data points that have at least MinPts neighboring data points within a distance ℇ.\n",
    "- Border Points are neighbors of a Core Point within the distance ℇ but with less than MinPts neighbors within the distance ℇ.\n",
    "- All other data points are Noise Points, also identified as outliers.\n",
    "\n",
    "Outlier detection thus depends on the required number of neighbors MinPts, the distance ℇ and the selected distance measure, like Euclidean or Manhattan.\n",
    "\n",
    "Compare to K-means Clustering, the number of clusters does not need to be predefined when using DBSCAN. The algorithm finds core samples of high density and expands clusters from them. DBSCAN works well on data containing clusters of similar density. It can be used to identify fraud as very small clusters.\n",
    "\n",
    "Since the size of the particular dataset we are using now is too large for DBSCAN to run, we will take a subsample of the dataset. "
   ]
  },
  {
   "cell_type": "code",
   "execution_count": 3,
   "metadata": {},
   "outputs": [],
   "source": [
    "import numpy as np\n",
    "import pandas as pd\n",
    "import scipy as sp\n",
    "import seaborn as sns\n",
    "import matplotlib.pyplot as plt\n",
    "import scipy.stats as stats\n",
    "\n",
    "%matplotlib inline\n",
    "\n",
    "from sklearn.preprocessing import StandardScaler\n",
    "from matplotlib.patches import Rectangle\n",
    "from pprint import pprint as pp\n",
    "import csv\n",
    "from pathlib import Path\n",
    "from imblearn.over_sampling import SMOTE\n",
    "from imblearn.pipeline import Pipeline \n",
    "from sklearn.linear_model import LinearRegression, LogisticRegression\n",
    "from sklearn.model_selection import train_test_split, GridSearchCV\n",
    "from sklearn.tree import DecisionTreeClassifier\n",
    "from sklearn.metrics import r2_score, classification_report, confusion_matrix, accuracy_score, roc_auc_score, roc_curve, precision_recall_curve, average_precision_score\n",
    "from sklearn.metrics import homogeneity_score, silhouette_score\n",
    "from sklearn.ensemble import RandomForestClassifier, VotingClassifier\n",
    "from sklearn.preprocessing import MinMaxScaler\n",
    "from sklearn.cluster import MiniBatchKMeans, DBSCAN\n",
    "from itertools import product"
   ]
  },
  {
   "cell_type": "code",
   "execution_count": 42,
   "metadata": {},
   "outputs": [],
   "source": [
    "df = pd.read_csv('../assets/creditcard.csv')"
   ]
  },
  {
   "cell_type": "code",
   "execution_count": 43,
   "metadata": {},
   "outputs": [
    {
     "data": {
      "text/plain": [
       "(284807, 31)"
      ]
     },
     "execution_count": 43,
     "metadata": {},
     "output_type": "execute_result"
    }
   ],
   "source": [
    "df.shape"
   ]
  },
  {
   "cell_type": "code",
   "execution_count": 44,
   "metadata": {},
   "outputs": [
    {
     "data": {
      "text/plain": [
       "(284807, 31)"
      ]
     },
     "execution_count": 44,
     "metadata": {},
     "output_type": "execute_result"
    }
   ],
   "source": [
    "df.shape"
   ]
  },
  {
   "cell_type": "code",
   "execution_count": 45,
   "metadata": {
    "scrolled": true
   },
   "outputs": [
    {
     "data": {
      "text/plain": [
       "0    284315\n",
       "1       492\n",
       "Name: Class, dtype: int64"
      ]
     },
     "execution_count": 45,
     "metadata": {},
     "output_type": "execute_result"
    }
   ],
   "source": [
    "df.Class.value_counts()"
   ]
  },
  {
   "cell_type": "markdown",
   "metadata": {},
   "source": [
    "## Train/Test split"
   ]
  },
  {
   "cell_type": "code",
   "execution_count": 46,
   "metadata": {},
   "outputs": [],
   "source": [
    "X = df.drop('Class',axis=1) # independent columns - features\n",
    "y = df.loc[:,'Class']       # target column - Class"
   ]
  },
  {
   "cell_type": "code",
   "execution_count": 47,
   "metadata": {},
   "outputs": [
    {
     "name": "stdout",
     "output_type": "stream",
     "text": [
      "Input Shape :  (284807, 30)\n",
      "Output Shape :  (284807,)\n"
     ]
    }
   ],
   "source": [
    "print(\"Input Shape : \", X.shape)\n",
    "print(\"Output Shape : \", y.shape)"
   ]
  },
  {
   "cell_type": "code",
   "execution_count": 48,
   "metadata": {},
   "outputs": [],
   "source": [
    "#Train test split into train and validation sets\n",
    "X_train, X_test, y_train, y_test = train_test_split(X, y, test_size=0.04, random_state = 42)"
   ]
  },
  {
   "cell_type": "code",
   "execution_count": 49,
   "metadata": {},
   "outputs": [
    {
     "name": "stdout",
     "output_type": "stream",
     "text": [
      "(273414, 30) (11393, 30) (273414,) (11393,)\n"
     ]
    }
   ],
   "source": [
    "print(X_train.shape,X_test.shape,y_train.shape,y_test.shape)"
   ]
  },
  {
   "cell_type": "markdown",
   "metadata": {},
   "source": [
    "## Sub-sampling\n",
    "\n",
    "I used tran_test_split to split the original dataset into train and test set. I will create a new dataframe using test dataset and run DBSCAN on it."
   ]
  },
  {
   "cell_type": "code",
   "execution_count": 50,
   "metadata": {},
   "outputs": [],
   "source": [
    "new_df = pd.concat([pd.DataFrame(X_test), pd.DataFrame(y_test)], axis=1)"
   ]
  },
  {
   "cell_type": "code",
   "execution_count": 51,
   "metadata": {},
   "outputs": [
    {
     "data": {
      "text/plain": [
       "(11393, 31)"
      ]
     },
     "execution_count": 51,
     "metadata": {},
     "output_type": "execute_result"
    }
   ],
   "source": [
    "new_df.shape"
   ]
  },
  {
   "cell_type": "code",
   "execution_count": 52,
   "metadata": {},
   "outputs": [
    {
     "data": {
      "text/plain": [
       "0    11373\n",
       "1       20\n",
       "Name: Class, dtype: int64"
      ]
     },
     "execution_count": 52,
     "metadata": {},
     "output_type": "execute_result"
    }
   ],
   "source": [
    "new_df['Class'].value_counts()"
   ]
  },
  {
   "cell_type": "code",
   "execution_count": 53,
   "metadata": {},
   "outputs": [
    {
     "data": {
      "text/html": [
       "<div>\n",
       "<style scoped>\n",
       "    .dataframe tbody tr th:only-of-type {\n",
       "        vertical-align: middle;\n",
       "    }\n",
       "\n",
       "    .dataframe tbody tr th {\n",
       "        vertical-align: top;\n",
       "    }\n",
       "\n",
       "    .dataframe thead th {\n",
       "        text-align: right;\n",
       "    }\n",
       "</style>\n",
       "<table border=\"1\" class=\"dataframe\">\n",
       "  <thead>\n",
       "    <tr style=\"text-align: right;\">\n",
       "      <th></th>\n",
       "      <th>Time</th>\n",
       "      <th>V1</th>\n",
       "      <th>V2</th>\n",
       "      <th>V3</th>\n",
       "      <th>V4</th>\n",
       "      <th>V5</th>\n",
       "      <th>V6</th>\n",
       "      <th>V7</th>\n",
       "      <th>V8</th>\n",
       "      <th>V9</th>\n",
       "      <th>...</th>\n",
       "      <th>V21</th>\n",
       "      <th>V22</th>\n",
       "      <th>V23</th>\n",
       "      <th>V24</th>\n",
       "      <th>V25</th>\n",
       "      <th>V26</th>\n",
       "      <th>V27</th>\n",
       "      <th>V28</th>\n",
       "      <th>Amount</th>\n",
       "      <th>Class</th>\n",
       "    </tr>\n",
       "  </thead>\n",
       "  <tbody>\n",
       "    <tr>\n",
       "      <th>43428</th>\n",
       "      <td>41505.0</td>\n",
       "      <td>-16.526507</td>\n",
       "      <td>8.584972</td>\n",
       "      <td>-18.649853</td>\n",
       "      <td>9.505594</td>\n",
       "      <td>-13.793819</td>\n",
       "      <td>-2.832404</td>\n",
       "      <td>-16.701694</td>\n",
       "      <td>7.517344</td>\n",
       "      <td>-8.507059</td>\n",
       "      <td>...</td>\n",
       "      <td>1.190739</td>\n",
       "      <td>-1.127670</td>\n",
       "      <td>-2.358579</td>\n",
       "      <td>0.673461</td>\n",
       "      <td>-1.413700</td>\n",
       "      <td>-0.462762</td>\n",
       "      <td>-2.018575</td>\n",
       "      <td>-1.042804</td>\n",
       "      <td>364.19</td>\n",
       "      <td>1</td>\n",
       "    </tr>\n",
       "    <tr>\n",
       "      <th>49906</th>\n",
       "      <td>44261.0</td>\n",
       "      <td>0.339812</td>\n",
       "      <td>-2.743745</td>\n",
       "      <td>-0.134070</td>\n",
       "      <td>-1.385729</td>\n",
       "      <td>-1.451413</td>\n",
       "      <td>1.015887</td>\n",
       "      <td>-0.524379</td>\n",
       "      <td>0.224060</td>\n",
       "      <td>0.899746</td>\n",
       "      <td>...</td>\n",
       "      <td>-0.213436</td>\n",
       "      <td>-0.942525</td>\n",
       "      <td>-0.526819</td>\n",
       "      <td>-1.156992</td>\n",
       "      <td>0.311211</td>\n",
       "      <td>-0.746647</td>\n",
       "      <td>0.040996</td>\n",
       "      <td>0.102038</td>\n",
       "      <td>520.12</td>\n",
       "      <td>0</td>\n",
       "    </tr>\n",
       "    <tr>\n",
       "      <th>29474</th>\n",
       "      <td>35484.0</td>\n",
       "      <td>1.399590</td>\n",
       "      <td>-0.590701</td>\n",
       "      <td>0.168619</td>\n",
       "      <td>-1.029950</td>\n",
       "      <td>-0.539806</td>\n",
       "      <td>0.040444</td>\n",
       "      <td>-0.712567</td>\n",
       "      <td>0.002299</td>\n",
       "      <td>-0.971747</td>\n",
       "      <td>...</td>\n",
       "      <td>0.102398</td>\n",
       "      <td>0.168269</td>\n",
       "      <td>-0.166639</td>\n",
       "      <td>-0.810250</td>\n",
       "      <td>0.505083</td>\n",
       "      <td>-0.232340</td>\n",
       "      <td>0.011409</td>\n",
       "      <td>0.004634</td>\n",
       "      <td>31.00</td>\n",
       "      <td>0</td>\n",
       "    </tr>\n",
       "    <tr>\n",
       "      <th>276481</th>\n",
       "      <td>167123.0</td>\n",
       "      <td>-0.432071</td>\n",
       "      <td>1.647895</td>\n",
       "      <td>-1.669361</td>\n",
       "      <td>-0.349504</td>\n",
       "      <td>0.785785</td>\n",
       "      <td>-0.630647</td>\n",
       "      <td>0.276990</td>\n",
       "      <td>0.586025</td>\n",
       "      <td>-0.484715</td>\n",
       "      <td>...</td>\n",
       "      <td>0.358932</td>\n",
       "      <td>0.873663</td>\n",
       "      <td>-0.178642</td>\n",
       "      <td>-0.017171</td>\n",
       "      <td>-0.207392</td>\n",
       "      <td>-0.157756</td>\n",
       "      <td>-0.237386</td>\n",
       "      <td>0.001934</td>\n",
       "      <td>1.50</td>\n",
       "      <td>0</td>\n",
       "    </tr>\n",
       "    <tr>\n",
       "      <th>278846</th>\n",
       "      <td>168473.0</td>\n",
       "      <td>2.014160</td>\n",
       "      <td>-0.137394</td>\n",
       "      <td>-1.015839</td>\n",
       "      <td>0.327269</td>\n",
       "      <td>-0.182179</td>\n",
       "      <td>-0.956571</td>\n",
       "      <td>0.043241</td>\n",
       "      <td>-0.160746</td>\n",
       "      <td>0.363241</td>\n",
       "      <td>...</td>\n",
       "      <td>-0.238644</td>\n",
       "      <td>-0.616400</td>\n",
       "      <td>0.347045</td>\n",
       "      <td>0.061561</td>\n",
       "      <td>-0.360196</td>\n",
       "      <td>0.174730</td>\n",
       "      <td>-0.078043</td>\n",
       "      <td>-0.070571</td>\n",
       "      <td>0.89</td>\n",
       "      <td>0</td>\n",
       "    </tr>\n",
       "  </tbody>\n",
       "</table>\n",
       "<p>5 rows × 31 columns</p>\n",
       "</div>"
      ],
      "text/plain": [
       "            Time         V1        V2         V3        V4         V5  \\\n",
       "43428    41505.0 -16.526507  8.584972 -18.649853  9.505594 -13.793819   \n",
       "49906    44261.0   0.339812 -2.743745  -0.134070 -1.385729  -1.451413   \n",
       "29474    35484.0   1.399590 -0.590701   0.168619 -1.029950  -0.539806   \n",
       "276481  167123.0  -0.432071  1.647895  -1.669361 -0.349504   0.785785   \n",
       "278846  168473.0   2.014160 -0.137394  -1.015839  0.327269  -0.182179   \n",
       "\n",
       "              V6         V7        V8        V9  ...       V21       V22  \\\n",
       "43428  -2.832404 -16.701694  7.517344 -8.507059  ...  1.190739 -1.127670   \n",
       "49906   1.015887  -0.524379  0.224060  0.899746  ... -0.213436 -0.942525   \n",
       "29474   0.040444  -0.712567  0.002299 -0.971747  ...  0.102398  0.168269   \n",
       "276481 -0.630647   0.276990  0.586025 -0.484715  ...  0.358932  0.873663   \n",
       "278846 -0.956571   0.043241 -0.160746  0.363241  ... -0.238644 -0.616400   \n",
       "\n",
       "             V23       V24       V25       V26       V27       V28  Amount  \\\n",
       "43428  -2.358579  0.673461 -1.413700 -0.462762 -2.018575 -1.042804  364.19   \n",
       "49906  -0.526819 -1.156992  0.311211 -0.746647  0.040996  0.102038  520.12   \n",
       "29474  -0.166639 -0.810250  0.505083 -0.232340  0.011409  0.004634   31.00   \n",
       "276481 -0.178642 -0.017171 -0.207392 -0.157756 -0.237386  0.001934    1.50   \n",
       "278846  0.347045  0.061561 -0.360196  0.174730 -0.078043 -0.070571    0.89   \n",
       "\n",
       "        Class  \n",
       "43428       1  \n",
       "49906       0  \n",
       "29474       0  \n",
       "276481      0  \n",
       "278846      0  \n",
       "\n",
       "[5 rows x 31 columns]"
      ]
     },
     "execution_count": 53,
     "metadata": {},
     "output_type": "execute_result"
    }
   ],
   "source": [
    "new_df.head()"
   ]
  },
  {
   "cell_type": "markdown",
   "metadata": {},
   "source": [
    "### Scaling the data"
   ]
  },
  {
   "cell_type": "code",
   "execution_count": 54,
   "metadata": {},
   "outputs": [],
   "source": [
    "labels = new_df.Class"
   ]
  },
  {
   "cell_type": "code",
   "execution_count": 55,
   "metadata": {},
   "outputs": [],
   "source": [
    "cols = list((new_df.drop(['Time', 'Amount', 'Class'], axis=1).columns.values))"
   ]
  },
  {
   "cell_type": "code",
   "execution_count": 56,
   "metadata": {},
   "outputs": [
    {
     "data": {
      "text/plain": [
       "['V1',\n",
       " 'V2',\n",
       " 'V3',\n",
       " 'V4',\n",
       " 'V5',\n",
       " 'V6',\n",
       " 'V7',\n",
       " 'V8',\n",
       " 'V9',\n",
       " 'V10',\n",
       " 'V11',\n",
       " 'V12',\n",
       " 'V13',\n",
       " 'V14',\n",
       " 'V15',\n",
       " 'V16',\n",
       " 'V17',\n",
       " 'V18',\n",
       " 'V19',\n",
       " 'V20',\n",
       " 'V21',\n",
       " 'V22',\n",
       " 'V23',\n",
       " 'V24',\n",
       " 'V25',\n",
       " 'V26',\n",
       " 'V27',\n",
       " 'V28']"
      ]
     },
     "execution_count": 56,
     "metadata": {},
     "output_type": "execute_result"
    }
   ],
   "source": [
    "cols"
   ]
  },
  {
   "cell_type": "code",
   "execution_count": 57,
   "metadata": {},
   "outputs": [],
   "source": [
    "# Take the float values of df for X\n",
    "X = new_df[cols].values.astype(np.float)"
   ]
  },
  {
   "cell_type": "code",
   "execution_count": 69,
   "metadata": {},
   "outputs": [
    {
     "data": {
      "text/plain": [
       "(11393, 28)"
      ]
     },
     "execution_count": 69,
     "metadata": {},
     "output_type": "execute_result"
    }
   ],
   "source": [
    "X.shape"
   ]
  },
  {
   "cell_type": "markdown",
   "metadata": {},
   "source": [
    "### Preprocessing"
   ]
  },
  {
   "cell_type": "code",
   "execution_count": 70,
   "metadata": {},
   "outputs": [],
   "source": [
    "# Define the scaler and apply to the data\n",
    "ss = StandardScaler()\n",
    "X_scaled = ss.fit_transform(X)"
   ]
  },
  {
   "cell_type": "markdown",
   "metadata": {},
   "source": [
    "### DBSCAN"
   ]
  },
  {
   "cell_type": "code",
   "execution_count": 77,
   "metadata": {},
   "outputs": [],
   "source": [
    "# Initialize and fit the DBscan model\n",
    "db = DBSCAN(eps=0.9, min_samples=10, n_jobs=-1).fit(X_scaled)\n",
    "\n",
    "# Obtain the predicted labels and calculate number of clusters\n",
    "pred_labels = db.labels_\n",
    "n_clusters = len(set(pred_labels)) - (1 if -1 in labels else 0)"
   ]
  },
  {
   "cell_type": "code",
   "execution_count": 78,
   "metadata": {},
   "outputs": [
    {
     "name": "stdout",
     "output_type": "stream",
     "text": [
      "Estimated number of clusters: 32\n",
      "Homogeneity: 0.008\n",
      "Silhouette Coefficient: -0.332\n"
     ]
    }
   ],
   "source": [
    "# Print performance metrics for DBscan\n",
    "print(f'Estimated number of clusters: {n_clusters}')\n",
    "print(f'Homogeneity: {homogeneity_score(labels, pred_labels):0.3f}')\n",
    "print(f'Silhouette Coefficient: {silhouette_score(X_scaled, pred_labels):0.3f}')"
   ]
  },
  {
   "cell_type": "markdown",
   "metadata": {},
   "source": [
    "### Assessing smallest clusters"
   ]
  },
  {
   "cell_type": "code",
   "execution_count": 79,
   "metadata": {},
   "outputs": [
    {
     "name": "stdout",
     "output_type": "stream",
     "text": [
      "[12 61 45 22 26 17 15 38 45 24 36 25 34 27 21 36 10 21 10 15 13 15 10 15\n",
      " 13 13 10 19 10 16 10]\n"
     ]
    }
   ],
   "source": [
    "# Count observations in each cluster number\n",
    "counts = np.bincount(pred_labels[pred_labels >= 0])\n",
    "\n",
    "# Print the result\n",
    "print(counts)"
   ]
  },
  {
   "cell_type": "code",
   "execution_count": 80,
   "metadata": {},
   "outputs": [],
   "source": [
    "# Sort the sample counts of the clusters and take the top 3 smallest clusters\n",
    "smallest_clusters = np.argsort(counts)[:3]"
   ]
  },
  {
   "cell_type": "code",
   "execution_count": 81,
   "metadata": {},
   "outputs": [
    {
     "name": "stdout",
     "output_type": "stream",
     "text": [
      "The smallest clusters are clusters: [30 28 26]\n"
     ]
    }
   ],
   "source": [
    "# Print the results \n",
    "print(f'The smallest clusters are clusters: {smallest_clusters}')"
   ]
  },
  {
   "cell_type": "code",
   "execution_count": 82,
   "metadata": {},
   "outputs": [
    {
     "name": "stdout",
     "output_type": "stream",
     "text": [
      "Their counts are: [10 10 10]\n"
     ]
    }
   ],
   "source": [
    "# Print the counts of the smallest clusters only\n",
    "print(f'Their counts are: {counts[smallest_clusters]}')"
   ]
  },
  {
   "cell_type": "markdown",
   "metadata": {},
   "source": [
    "### Results verification"
   ]
  },
  {
   "cell_type": "code",
   "execution_count": 83,
   "metadata": {},
   "outputs": [],
   "source": [
    "# Create a dataframe of the predicted cluster numbers and fraud labels \n",
    "df = pd.DataFrame({'clusternr':pred_labels,'fraud':labels})\n",
    "\n",
    "# Create a condition flagging fraud for the smallest clusters \n",
    "df['predicted_fraud'] = np.where((df['clusternr'].isin([30, 28, 26])), 1 , 0)"
   ]
  },
  {
   "cell_type": "code",
   "execution_count": 84,
   "metadata": {},
   "outputs": [
    {
     "name": "stdout",
     "output_type": "stream",
     "text": [
      "Flagged Fraud      0   1\n",
      "Actual Fraud            \n",
      "0              11343  30\n",
      "1                 20   0\n"
     ]
    }
   ],
   "source": [
    "# Run a crosstab on the results \n",
    "print(pd.crosstab(df['fraud'], df['predicted_fraud'], rownames=['Actual Fraud'], colnames=['Flagged Fraud']))"
   ]
  },
  {
   "cell_type": "markdown",
   "metadata": {},
   "source": [
    "20 Fraud cases are deteced. This result shows that DBSCAN has 100% accuracy in detecting fraud."
   ]
  }
 ],
 "metadata": {
  "kernelspec": {
   "display_name": "Python 3",
   "language": "python",
   "name": "python3"
  },
  "language_info": {
   "codemirror_mode": {
    "name": "ipython",
    "version": 3
   },
   "file_extension": ".py",
   "mimetype": "text/x-python",
   "name": "python",
   "nbconvert_exporter": "python",
   "pygments_lexer": "ipython3",
   "version": "3.8.5"
  }
 },
 "nbformat": 4,
 "nbformat_minor": 4
}
